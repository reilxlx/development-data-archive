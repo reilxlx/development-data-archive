{
 "cells": [
  {
   "cell_type": "code",
   "execution_count": null,
   "metadata": {},
   "outputs": [],
   "source": [
    "from faiss_searcher import BertEncoder,FaissSearcher\n",
    "import pandas as pd\n",
    "import tensorflow as tf"
   ]
  },
  {
   "cell_type": "code",
   "execution_count": null,
   "metadata": {},
   "outputs": [],
   "source": [
    "config_path = \"/data/ssyq/model/bert-base-chinese/config.json\"\n",
    "checkpoint_path = tf.train.latest_checkpoint(\"/data/ssyq/model/bert-base-chinese/\")\n",
    "dict_path = \"/data/ssyq/model/bert-base-chinese/vocab.json\"\n",
    "item_path = \"/data/ssyq/data/20231108.csv\"\n"
   ]
  },
  {
   "cell_type": "code",
   "execution_count": null,
   "metadata": {},
   "outputs": [],
   "source": [
    "encoder = BertEncoder(config_path, checkpoint_path,  dict_path)  # 预训练权重自己得准备好，也可以是自己写的encoder，必须有encode或者predict方法，基本只要通过keras/tf2实现的模型都可以，作用是将物料encode成向量。\n",
    "items = pd.read_csv(item_path)  # 候选物料集合csv文件，需要自备，需要df第一列是候选物料，其他列会在检索时自动带出。\n",
    "index_param = 'HNSW64'\n",
    "measurement = 'l2'"
   ]
  },
  {
   "cell_type": "code",
   "execution_count": null,
   "metadata": {},
   "outputs": [],
   "source": [
    "searcher = FaissSearcher(encoder=encoder, items=items, index_param= index_param, measurement= measurement)\n",
    "# 构建index\n",
    "searcher.train()"
   ]
  },
  {
   "cell_type": "code",
   "execution_count": null,
   "metadata": {},
   "outputs": [],
   "source": [
    "target = ['幸运周']\n",
    "df_res = searcher.search(target, topK=5)  # df_res结果\n",
    "print(\"df_res:\", df_res)"
   ]
  },
  {
   "cell_type": "code",
   "execution_count": null,
   "metadata": {},
   "outputs": [],
   "source": []
  }
 ],
 "metadata": {
  "kernelspec": {
   "display_name": "Python 3",
   "language": "python",
   "name": "python3"
  },
  "language_info": {
   "codemirror_mode": {
    "name": "ipython",
    "version": 3
   },
   "file_extension": ".py",
   "mimetype": "text/x-python",
   "name": "python",
   "nbconvert_exporter": "python",
   "pygments_lexer": "ipython3",
   "version": "3.7.3"
  }
 },
 "nbformat": 4,
 "nbformat_minor": 5
}
