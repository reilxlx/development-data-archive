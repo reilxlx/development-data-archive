{
 "cells": [
  {
   "cell_type": "code",
   "execution_count": null,
   "metadata": {},
   "outputs": [],
   "source": [
    "import pandas as pd"
   ]
  },
  {
   "cell_type": "code",
   "execution_count": null,
   "metadata": {},
   "outputs": [],
   "source": [
    "# 文件路径\n",
    "file_path = '/data/ssyq/data/20231108.txt'\n"
   ]
  },
  {
   "cell_type": "code",
   "execution_count": null,
   "metadata": {},
   "outputs": [],
   "source": [
    "# 初始化字典，用于存储数据\n",
    "data = {}\n",
    "\n",
    "# 读取文件并处理每行\n",
    "with open(file_path, 'r', encoding='utf-8') as file:\n",
    "    for line in file:\n",
    "#         line_utf8 = line.encode('gbk').decode('utf-8')\n",
    "        splitted_line = line.strip().split('|+|')\n",
    "        # 检查分割后的长度\n",
    "        if len(splitted_line) >= 3:\n",
    "            # 使用第1和第2个元素作为索引\n",
    "            index = f\"{splitted_line[1]}_{splitted_line[2]}\"\n",
    "            print(\"index:\", index)\n",
    "            # 其余元素作为数据值\n",
    "#             values = splitted_line[3:] if len(splitted_line) > 3 else []\n",
    "            values = splitted_line[0]\n",
    "            print(\"values:\", values)\n",
    "            data[index] = values\n"
   ]
  },
  {
   "cell_type": "code",
   "execution_count": null,
   "metadata": {},
   "outputs": [],
   "source": [
    "# 创建 DataFrame\n",
    "df = pd.DataFrame(dict([(k, pd.Series(v)) for k, v in data.items()])).T\n",
    "df.to_json('/data/ssyq/data/20231108.json', orient='index',  force_ascii=False)\n",
    "# 显示 DataFrame\n",
    "print(df)"
   ]
  },
  {
   "cell_type": "code",
   "execution_count": null,
   "metadata": {},
   "outputs": [],
   "source": [
    "# 可选：将 DataFrame 保存为文件\n",
    "df.to_csv('/data/ssyq/data/20231108.csv', index=True)"
   ]
  },
  {
   "cell_type": "code",
   "execution_count": null,
   "metadata": {},
   "outputs": [],
   "source": []
  }
 ],
 "metadata": {
  "kernelspec": {
   "display_name": "Python 3",
   "language": "python",
   "name": "python3"
  },
  "language_info": {
   "codemirror_mode": {
    "name": "ipython",
    "version": 3
   },
   "file_extension": ".py",
   "mimetype": "text/x-python",
   "name": "python",
   "nbconvert_exporter": "python",
   "pygments_lexer": "ipython3",
   "version": "3.7.3"
  }
 },
 "nbformat": 4,
 "nbformat_minor": 5
}
