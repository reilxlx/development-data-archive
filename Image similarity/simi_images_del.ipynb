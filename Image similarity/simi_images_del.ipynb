{
 "cells": [
  {
   "cell_type": "code",
   "execution_count": 1,
   "metadata": {},
   "outputs": [],
   "source": [
    "import os\n",
    "from PIL import Image\n",
    "from transformers import CLIPProcessor, CLIPModel\n",
    "import faiss\n",
    "import numpy as np\n",
    "import time"
   ]
  },
  {
   "cell_type": "code",
   "execution_count": 2,
   "metadata": {},
   "outputs": [
    {
     "name": "stderr",
     "output_type": "stream",
     "text": [
      "2023-11-16 15:10:18.146211: I tensorflow/core/platform/cpu_feature_guard.cc:193] This TensorFlow binary is optimized with oneAPI Deep Neural Network Library (oneDNN) to use the following CPU instructions in performance-critical operations:  AVX2 AVX512F AVX512_VNNI FMA\n",
      "To enable them in other operations, rebuild TensorFlow with the appropriate compiler flags.\n",
      "2023-11-16 15:10:18.275458: I tensorflow/core/util/util.cc:169] oneDNN custom operations are on. You may see slightly different numerical results due to floating-point round-off errors from different computation orders. To turn them off, set the environment variable `TF_ENABLE_ONEDNN_OPTS=0`.\n",
      "2023-11-16 15:10:18.309716: E tensorflow/stream_executor/cuda/cuda_blas.cc:2981] Unable to register cuBLAS factory: Attempting to register factory for plugin cuBLAS when one has already been registered\n",
      "2023-11-16 15:10:18.859771: W tensorflow/stream_executor/platform/default/dso_loader.cc:64] Could not load dynamic library 'libnvinfer.so.7'; dlerror: libnvinfer.so.7: cannot open shared object file: No such file or directory; LD_LIBRARY_PATH: /opt/anaconda3/lib:/usr/local/cuda-10.2/lib64\n",
      "2023-11-16 15:10:18.859846: W tensorflow/stream_executor/platform/default/dso_loader.cc:64] Could not load dynamic library 'libnvinfer_plugin.so.7'; dlerror: libnvinfer_plugin.so.7: cannot open shared object file: No such file or directory; LD_LIBRARY_PATH: /opt/anaconda3/lib:/usr/local/cuda-10.2/lib64\n",
      "2023-11-16 15:10:18.859854: W tensorflow/compiler/tf2tensorrt/utils/py_utils.cc:38] TF-TRT Warning: Cannot dlopen some TensorRT libraries. If you would like to use Nvidia GPU with TensorRT, please make sure the missing libraries mentioned above are installed properly.\n"
     ]
    }
   ],
   "source": [
    "model = CLIPModel.from_pretrained(\"/data/similarities/model/openaiclipvitbasepatch32\")\n",
    "processor = CLIPProcessor.from_pretrained(\"/data/similarities/model/openaiclipvitbasepatch32\")"
   ]
  },
  {
   "cell_type": "code",
   "execution_count": 3,
   "metadata": {},
   "outputs": [],
   "source": [
    "# 函数：从图像URL中提取特征向量\n",
    "def extract_features(image_path, model, processor):\n",
    "    image = Image.open(image_path)\n",
    "    inputs = processor(images=image, return_tensors=\"pt\")\n",
    "    outputs = model.get_image_features(**inputs)\n",
    "    return outputs[0].detach().numpy()"
   ]
  },
  {
   "cell_type": "code",
   "execution_count": 4,
   "metadata": {},
   "outputs": [],
   "source": [
    "# 构建 Faiss 索引\n",
    "index = faiss.IndexFlatL2(512)\n",
    "\n",
    "image_names = []\n",
    "image_features = []"
   ]
  },
  {
   "cell_type": "code",
   "execution_count": 5,
   "metadata": {},
   "outputs": [],
   "source": [
    "start_time = time.time()\n",
    "# 提取特征并建立索引\n",
    "for img_name in os.listdir(\"/data/similarities/data/pics/\"):\n",
    "    img_path = os.path.join(\"/data/similarities/data/pics/\", img_name)\n",
    "    features = extract_features(img_path, model, processor)\n",
    "    index.add(np.array([features]))\n",
    "    image_names.append(img_name)\n",
    "    image_features.append(features)\n",
    "end_time = time.time()\n",
    "execution_time = end_time - start_time"
   ]
  },
  {
   "cell_type": "code",
   "execution_count": 6,
   "metadata": {},
   "outputs": [
    {
     "name": "stdout",
     "output_type": "stream",
     "text": [
      "execution_time: 594.3618865013123\n"
     ]
    }
   ],
   "source": [
    "print(\"execution_time:\",execution_time)"
   ]
  },
  {
   "cell_type": "code",
   "execution_count": 7,
   "metadata": {},
   "outputs": [],
   "source": [
    "def save_faiss_index(index, file_path):\n",
    "    faiss.write_index(index, file_path)\n",
    "faiss_index_file = \"/data/similarities/index/faiss_index_cpu_6374.index\"\n",
    "save_faiss_index(index, faiss_index_file)"
   ]
  },
  {
   "cell_type": "code",
   "execution_count": 8,
   "metadata": {},
   "outputs": [],
   "source": [
    "# 找出重复的图片\n",
    "duplicates = []\n",
    "threshold = 0.8  # 相似度阈值，可以根据需要调整\n",
    "for i in range(len(image_features)):\n",
    "    _, indices = index.search(np.array([image_features[i]]), 2)  # 搜索最相似的两张图片（包括它自己）\n",
    "    if indices[0][1] != i and np.dot(image_features[i], image_features[indices[0][1]]) > threshold:\n",
    "        duplicates.append((image_names[i], image_names[indices[0][1]]))\n"
   ]
  },
  {
   "cell_type": "code",
   "execution_count": 9,
   "metadata": {},
   "outputs": [],
   "source": [
    "# 记录并删除重复的图片\n",
    "with open('/data/similarities/index/duplicates_cpu_0.8_del.txt', 'w') as f:\n",
    "    for dup1, dup2 in duplicates:\n",
    "#         f.write(f'{dup1}, {dup2}\\n')\n",
    "        if os.path.exists(os.path.join(\"/data/similarities/data/pics/\", dup2)):\n",
    "            if os.remove(os.path.join(\"/data/similarities/data/pics/\", dup2)):  # 删除重复图片之一\n",
    "                f.write(f'{dup2}\\n')\n",
    "            "
   ]
  },
  {
   "cell_type": "code",
   "execution_count": null,
   "metadata": {},
   "outputs": [],
   "source": []
  }
 ],
 "metadata": {
  "kernelspec": {
   "display_name": "Python 3",
   "language": "python",
   "name": "python3"
  },
  "language_info": {
   "codemirror_mode": {
    "name": "ipython",
    "version": 3
   },
   "file_extension": ".py",
   "mimetype": "text/x-python",
   "name": "python",
   "nbconvert_exporter": "python",
   "pygments_lexer": "ipython3",
   "version": "3.7.3"
  }
 },
 "nbformat": 4,
 "nbformat_minor": 5
}
